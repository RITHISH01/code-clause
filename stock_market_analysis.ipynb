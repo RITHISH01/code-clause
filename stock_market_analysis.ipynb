{
  "nbformat": 4,
  "nbformat_minor": 0,
  "metadata": {
    "colab": {
      "provenance": []
    },
    "kernelspec": {
      "name": "python3",
      "display_name": "Python 3"
    },
    "language_info": {
      "name": "python"
    }
  },
  "cells": [
    {
      "cell_type": "code",
      "execution_count": null,
      "metadata": {
        "id": "tes83PyyjM4j"
      },
      "outputs": [],
      "source": [
        "# importing packages\n",
        "\n",
        "import pandas as pd\n",
        "import numpy as np\n",
        "import matplotlib.pyplot as plt\n",
        "from sklearn.preprocessing import MinMaxScaler"
      ]
    },
    {
      "cell_type": "code",
      "source": [
        "# Load Data\n",
        "\n",
        "df = pd.read_csv(\"/content/drive/MyDrive/intern.csv\")"
      ],
      "metadata": {
        "id": "UhmTWsV1jRgo"
      },
      "execution_count": null,
      "outputs": []
    },
    {
      "cell_type": "code",
      "source": [
        "df.head()"
      ],
      "metadata": {
        "colab": {
          "base_uri": "https://localhost:8080/",
          "height": 206
        },
        "id": "7zzceXdmjXrC",
        "outputId": "8f8335a1-5a46-4842-bddc-daf27492d772"
      },
      "execution_count": null,
      "outputs": [
        {
          "output_type": "execute_result",
          "data": {
            "text/plain": [
              "         Date     Open     High      Low    Close    Volume  OpenInt Stock\n",
              "0  07-09-1984  0.42388  0.42902  0.41874  0.42388  23220030        0  AAPL\n",
              "1  10-09-1984  0.42388  0.42516  0.41366  0.42134  18022532        0  AAPL\n",
              "2  11-09-1984  0.42516  0.43668  0.42516  0.42902  42498199        0  AAPL\n",
              "3  12-09-1984  0.42902  0.43157  0.41618  0.41618  37125801        0  AAPL\n",
              "4  13-09-1984  0.43927  0.44052  0.43927  0.43927  57822062        0  AAPL"
            ],
            "text/html": [
              "\n",
              "  <div id=\"df-d14872e9-b30b-452a-aa50-49eea436de04\">\n",
              "    <div class=\"colab-df-container\">\n",
              "      <div>\n",
              "<style scoped>\n",
              "    .dataframe tbody tr th:only-of-type {\n",
              "        vertical-align: middle;\n",
              "    }\n",
              "\n",
              "    .dataframe tbody tr th {\n",
              "        vertical-align: top;\n",
              "    }\n",
              "\n",
              "    .dataframe thead th {\n",
              "        text-align: right;\n",
              "    }\n",
              "</style>\n",
              "<table border=\"1\" class=\"dataframe\">\n",
              "  <thead>\n",
              "    <tr style=\"text-align: right;\">\n",
              "      <th></th>\n",
              "      <th>Date</th>\n",
              "      <th>Open</th>\n",
              "      <th>High</th>\n",
              "      <th>Low</th>\n",
              "      <th>Close</th>\n",
              "      <th>Volume</th>\n",
              "      <th>OpenInt</th>\n",
              "      <th>Stock</th>\n",
              "    </tr>\n",
              "  </thead>\n",
              "  <tbody>\n",
              "    <tr>\n",
              "      <th>0</th>\n",
              "      <td>07-09-1984</td>\n",
              "      <td>0.42388</td>\n",
              "      <td>0.42902</td>\n",
              "      <td>0.41874</td>\n",
              "      <td>0.42388</td>\n",
              "      <td>23220030</td>\n",
              "      <td>0</td>\n",
              "      <td>AAPL</td>\n",
              "    </tr>\n",
              "    <tr>\n",
              "      <th>1</th>\n",
              "      <td>10-09-1984</td>\n",
              "      <td>0.42388</td>\n",
              "      <td>0.42516</td>\n",
              "      <td>0.41366</td>\n",
              "      <td>0.42134</td>\n",
              "      <td>18022532</td>\n",
              "      <td>0</td>\n",
              "      <td>AAPL</td>\n",
              "    </tr>\n",
              "    <tr>\n",
              "      <th>2</th>\n",
              "      <td>11-09-1984</td>\n",
              "      <td>0.42516</td>\n",
              "      <td>0.43668</td>\n",
              "      <td>0.42516</td>\n",
              "      <td>0.42902</td>\n",
              "      <td>42498199</td>\n",
              "      <td>0</td>\n",
              "      <td>AAPL</td>\n",
              "    </tr>\n",
              "    <tr>\n",
              "      <th>3</th>\n",
              "      <td>12-09-1984</td>\n",
              "      <td>0.42902</td>\n",
              "      <td>0.43157</td>\n",
              "      <td>0.41618</td>\n",
              "      <td>0.41618</td>\n",
              "      <td>37125801</td>\n",
              "      <td>0</td>\n",
              "      <td>AAPL</td>\n",
              "    </tr>\n",
              "    <tr>\n",
              "      <th>4</th>\n",
              "      <td>13-09-1984</td>\n",
              "      <td>0.43927</td>\n",
              "      <td>0.44052</td>\n",
              "      <td>0.43927</td>\n",
              "      <td>0.43927</td>\n",
              "      <td>57822062</td>\n",
              "      <td>0</td>\n",
              "      <td>AAPL</td>\n",
              "    </tr>\n",
              "  </tbody>\n",
              "</table>\n",
              "</div>\n",
              "      <button class=\"colab-df-convert\" onclick=\"convertToInteractive('df-d14872e9-b30b-452a-aa50-49eea436de04')\"\n",
              "              title=\"Convert this dataframe to an interactive table.\"\n",
              "              style=\"display:none;\">\n",
              "        \n",
              "  <svg xmlns=\"http://www.w3.org/2000/svg\" height=\"24px\"viewBox=\"0 0 24 24\"\n",
              "       width=\"24px\">\n",
              "    <path d=\"M0 0h24v24H0V0z\" fill=\"none\"/>\n",
              "    <path d=\"M18.56 5.44l.94 2.06.94-2.06 2.06-.94-2.06-.94-.94-2.06-.94 2.06-2.06.94zm-11 1L8.5 8.5l.94-2.06 2.06-.94-2.06-.94L8.5 2.5l-.94 2.06-2.06.94zm10 10l.94 2.06.94-2.06 2.06-.94-2.06-.94-.94-2.06-.94 2.06-2.06.94z\"/><path d=\"M17.41 7.96l-1.37-1.37c-.4-.4-.92-.59-1.43-.59-.52 0-1.04.2-1.43.59L10.3 9.45l-7.72 7.72c-.78.78-.78 2.05 0 2.83L4 21.41c.39.39.9.59 1.41.59.51 0 1.02-.2 1.41-.59l7.78-7.78 2.81-2.81c.8-.78.8-2.07 0-2.86zM5.41 20L4 18.59l7.72-7.72 1.47 1.35L5.41 20z\"/>\n",
              "  </svg>\n",
              "      </button>\n",
              "      \n",
              "  <style>\n",
              "    .colab-df-container {\n",
              "      display:flex;\n",
              "      flex-wrap:wrap;\n",
              "      gap: 12px;\n",
              "    }\n",
              "\n",
              "    .colab-df-convert {\n",
              "      background-color: #E8F0FE;\n",
              "      border: none;\n",
              "      border-radius: 50%;\n",
              "      cursor: pointer;\n",
              "      display: none;\n",
              "      fill: #1967D2;\n",
              "      height: 32px;\n",
              "      padding: 0 0 0 0;\n",
              "      width: 32px;\n",
              "    }\n",
              "\n",
              "    .colab-df-convert:hover {\n",
              "      background-color: #E2EBFA;\n",
              "      box-shadow: 0px 1px 2px rgba(60, 64, 67, 0.3), 0px 1px 3px 1px rgba(60, 64, 67, 0.15);\n",
              "      fill: #174EA6;\n",
              "    }\n",
              "\n",
              "    [theme=dark] .colab-df-convert {\n",
              "      background-color: #3B4455;\n",
              "      fill: #D2E3FC;\n",
              "    }\n",
              "\n",
              "    [theme=dark] .colab-df-convert:hover {\n",
              "      background-color: #434B5C;\n",
              "      box-shadow: 0px 1px 3px 1px rgba(0, 0, 0, 0.15);\n",
              "      filter: drop-shadow(0px 1px 2px rgba(0, 0, 0, 0.3));\n",
              "      fill: #FFFFFF;\n",
              "    }\n",
              "  </style>\n",
              "\n",
              "      <script>\n",
              "        const buttonEl =\n",
              "          document.querySelector('#df-d14872e9-b30b-452a-aa50-49eea436de04 button.colab-df-convert');\n",
              "        buttonEl.style.display =\n",
              "          google.colab.kernel.accessAllowed ? 'block' : 'none';\n",
              "\n",
              "        async function convertToInteractive(key) {\n",
              "          const element = document.querySelector('#df-d14872e9-b30b-452a-aa50-49eea436de04');\n",
              "          const dataTable =\n",
              "            await google.colab.kernel.invokeFunction('convertToInteractive',\n",
              "                                                     [key], {});\n",
              "          if (!dataTable) return;\n",
              "\n",
              "          const docLinkHtml = 'Like what you see? Visit the ' +\n",
              "            '<a target=\"_blank\" href=https://colab.research.google.com/notebooks/data_table.ipynb>data table notebook</a>'\n",
              "            + ' to learn more about interactive tables.';\n",
              "          element.innerHTML = '';\n",
              "          dataTable['output_type'] = 'display_data';\n",
              "          await google.colab.output.renderOutput(dataTable, element);\n",
              "          const docLink = document.createElement('div');\n",
              "          docLink.innerHTML = docLinkHtml;\n",
              "          element.appendChild(docLink);\n",
              "        }\n",
              "      </script>\n",
              "    </div>\n",
              "  </div>\n",
              "  "
            ]
          },
          "metadata": {},
          "execution_count": 6
        }
      ]
    },
    {
      "cell_type": "code",
      "source": [
        "df.head()"
      ],
      "metadata": {
        "colab": {
          "base_uri": "https://localhost:8080/",
          "height": 206
        },
        "id": "bSXU5xSWj2Su",
        "outputId": "59aa9162-825c-4ab6-911a-8881dcb6dae0"
      },
      "execution_count": null,
      "outputs": [
        {
          "output_type": "execute_result",
          "data": {
            "text/plain": [
              "         Date     Open     High      Low    Close    Volume  OpenInt Stock\n",
              "0  07-09-1984  0.42388  0.42902  0.41874  0.42388  23220030        0  AAPL\n",
              "1  10-09-1984  0.42388  0.42516  0.41366  0.42134  18022532        0  AAPL\n",
              "2  11-09-1984  0.42516  0.43668  0.42516  0.42902  42498199        0  AAPL\n",
              "3  12-09-1984  0.42902  0.43157  0.41618  0.41618  37125801        0  AAPL\n",
              "4  13-09-1984  0.43927  0.44052  0.43927  0.43927  57822062        0  AAPL"
            ],
            "text/html": [
              "\n",
              "  <div id=\"df-e99a6be3-1ab5-45f6-9eaf-d71523eb3b0a\">\n",
              "    <div class=\"colab-df-container\">\n",
              "      <div>\n",
              "<style scoped>\n",
              "    .dataframe tbody tr th:only-of-type {\n",
              "        vertical-align: middle;\n",
              "    }\n",
              "\n",
              "    .dataframe tbody tr th {\n",
              "        vertical-align: top;\n",
              "    }\n",
              "\n",
              "    .dataframe thead th {\n",
              "        text-align: right;\n",
              "    }\n",
              "</style>\n",
              "<table border=\"1\" class=\"dataframe\">\n",
              "  <thead>\n",
              "    <tr style=\"text-align: right;\">\n",
              "      <th></th>\n",
              "      <th>Date</th>\n",
              "      <th>Open</th>\n",
              "      <th>High</th>\n",
              "      <th>Low</th>\n",
              "      <th>Close</th>\n",
              "      <th>Volume</th>\n",
              "      <th>OpenInt</th>\n",
              "      <th>Stock</th>\n",
              "    </tr>\n",
              "  </thead>\n",
              "  <tbody>\n",
              "    <tr>\n",
              "      <th>0</th>\n",
              "      <td>07-09-1984</td>\n",
              "      <td>0.42388</td>\n",
              "      <td>0.42902</td>\n",
              "      <td>0.41874</td>\n",
              "      <td>0.42388</td>\n",
              "      <td>23220030</td>\n",
              "      <td>0</td>\n",
              "      <td>AAPL</td>\n",
              "    </tr>\n",
              "    <tr>\n",
              "      <th>1</th>\n",
              "      <td>10-09-1984</td>\n",
              "      <td>0.42388</td>\n",
              "      <td>0.42516</td>\n",
              "      <td>0.41366</td>\n",
              "      <td>0.42134</td>\n",
              "      <td>18022532</td>\n",
              "      <td>0</td>\n",
              "      <td>AAPL</td>\n",
              "    </tr>\n",
              "    <tr>\n",
              "      <th>2</th>\n",
              "      <td>11-09-1984</td>\n",
              "      <td>0.42516</td>\n",
              "      <td>0.43668</td>\n",
              "      <td>0.42516</td>\n",
              "      <td>0.42902</td>\n",
              "      <td>42498199</td>\n",
              "      <td>0</td>\n",
              "      <td>AAPL</td>\n",
              "    </tr>\n",
              "    <tr>\n",
              "      <th>3</th>\n",
              "      <td>12-09-1984</td>\n",
              "      <td>0.42902</td>\n",
              "      <td>0.43157</td>\n",
              "      <td>0.41618</td>\n",
              "      <td>0.41618</td>\n",
              "      <td>37125801</td>\n",
              "      <td>0</td>\n",
              "      <td>AAPL</td>\n",
              "    </tr>\n",
              "    <tr>\n",
              "      <th>4</th>\n",
              "      <td>13-09-1984</td>\n",
              "      <td>0.43927</td>\n",
              "      <td>0.44052</td>\n",
              "      <td>0.43927</td>\n",
              "      <td>0.43927</td>\n",
              "      <td>57822062</td>\n",
              "      <td>0</td>\n",
              "      <td>AAPL</td>\n",
              "    </tr>\n",
              "  </tbody>\n",
              "</table>\n",
              "</div>\n",
              "      <button class=\"colab-df-convert\" onclick=\"convertToInteractive('df-e99a6be3-1ab5-45f6-9eaf-d71523eb3b0a')\"\n",
              "              title=\"Convert this dataframe to an interactive table.\"\n",
              "              style=\"display:none;\">\n",
              "        \n",
              "  <svg xmlns=\"http://www.w3.org/2000/svg\" height=\"24px\"viewBox=\"0 0 24 24\"\n",
              "       width=\"24px\">\n",
              "    <path d=\"M0 0h24v24H0V0z\" fill=\"none\"/>\n",
              "    <path d=\"M18.56 5.44l.94 2.06.94-2.06 2.06-.94-2.06-.94-.94-2.06-.94 2.06-2.06.94zm-11 1L8.5 8.5l.94-2.06 2.06-.94-2.06-.94L8.5 2.5l-.94 2.06-2.06.94zm10 10l.94 2.06.94-2.06 2.06-.94-2.06-.94-.94-2.06-.94 2.06-2.06.94z\"/><path d=\"M17.41 7.96l-1.37-1.37c-.4-.4-.92-.59-1.43-.59-.52 0-1.04.2-1.43.59L10.3 9.45l-7.72 7.72c-.78.78-.78 2.05 0 2.83L4 21.41c.39.39.9.59 1.41.59.51 0 1.02-.2 1.41-.59l7.78-7.78 2.81-2.81c.8-.78.8-2.07 0-2.86zM5.41 20L4 18.59l7.72-7.72 1.47 1.35L5.41 20z\"/>\n",
              "  </svg>\n",
              "      </button>\n",
              "      \n",
              "  <style>\n",
              "    .colab-df-container {\n",
              "      display:flex;\n",
              "      flex-wrap:wrap;\n",
              "      gap: 12px;\n",
              "    }\n",
              "\n",
              "    .colab-df-convert {\n",
              "      background-color: #E8F0FE;\n",
              "      border: none;\n",
              "      border-radius: 50%;\n",
              "      cursor: pointer;\n",
              "      display: none;\n",
              "      fill: #1967D2;\n",
              "      height: 32px;\n",
              "      padding: 0 0 0 0;\n",
              "      width: 32px;\n",
              "    }\n",
              "\n",
              "    .colab-df-convert:hover {\n",
              "      background-color: #E2EBFA;\n",
              "      box-shadow: 0px 1px 2px rgba(60, 64, 67, 0.3), 0px 1px 3px 1px rgba(60, 64, 67, 0.15);\n",
              "      fill: #174EA6;\n",
              "    }\n",
              "\n",
              "    [theme=dark] .colab-df-convert {\n",
              "      background-color: #3B4455;\n",
              "      fill: #D2E3FC;\n",
              "    }\n",
              "\n",
              "    [theme=dark] .colab-df-convert:hover {\n",
              "      background-color: #434B5C;\n",
              "      box-shadow: 0px 1px 3px 1px rgba(0, 0, 0, 0.15);\n",
              "      filter: drop-shadow(0px 1px 2px rgba(0, 0, 0, 0.3));\n",
              "      fill: #FFFFFF;\n",
              "    }\n",
              "  </style>\n",
              "\n",
              "      <script>\n",
              "        const buttonEl =\n",
              "          document.querySelector('#df-e99a6be3-1ab5-45f6-9eaf-d71523eb3b0a button.colab-df-convert');\n",
              "        buttonEl.style.display =\n",
              "          google.colab.kernel.accessAllowed ? 'block' : 'none';\n",
              "\n",
              "        async function convertToInteractive(key) {\n",
              "          const element = document.querySelector('#df-e99a6be3-1ab5-45f6-9eaf-d71523eb3b0a');\n",
              "          const dataTable =\n",
              "            await google.colab.kernel.invokeFunction('convertToInteractive',\n",
              "                                                     [key], {});\n",
              "          if (!dataTable) return;\n",
              "\n",
              "          const docLinkHtml = 'Like what you see? Visit the ' +\n",
              "            '<a target=\"_blank\" href=https://colab.research.google.com/notebooks/data_table.ipynb>data table notebook</a>'\n",
              "            + ' to learn more about interactive tables.';\n",
              "          element.innerHTML = '';\n",
              "          dataTable['output_type'] = 'display_data';\n",
              "          await google.colab.output.renderOutput(dataTable, element);\n",
              "          const docLink = document.createElement('div');\n",
              "          docLink.innerHTML = docLinkHtml;\n",
              "          element.appendChild(docLink);\n",
              "        }\n",
              "      </script>\n",
              "    </div>\n",
              "  </div>\n",
              "  "
            ]
          },
          "metadata": {},
          "execution_count": 7
        }
      ]
    },
    {
      "cell_type": "code",
      "source": [
        "df.columns"
      ],
      "metadata": {
        "colab": {
          "base_uri": "https://localhost:8080/"
        },
        "id": "ppQtDEbSkE-7",
        "outputId": "a22df81e-1ad4-47e7-fef5-6cee75f9c546"
      },
      "execution_count": null,
      "outputs": [
        {
          "output_type": "execute_result",
          "data": {
            "text/plain": [
              "Index(['Date', 'Open', 'High', 'Low', 'Close', 'Volume', 'OpenInt', 'Stock'], dtype='object')"
            ]
          },
          "metadata": {},
          "execution_count": 8
        }
      ]
    },
    {
      "cell_type": "code",
      "source": [
        "df.isnull().sum()"
      ],
      "metadata": {
        "colab": {
          "base_uri": "https://localhost:8080/"
        },
        "id": "uOSNIlKLkPEz",
        "outputId": "2fb60219-3b97-4f77-ee95-96f24a366ad2"
      },
      "execution_count": null,
      "outputs": [
        {
          "output_type": "execute_result",
          "data": {
            "text/plain": [
              "Date       0\n",
              "Open       0\n",
              "High       0\n",
              "Low        0\n",
              "Close      0\n",
              "Volume     0\n",
              "OpenInt    0\n",
              "Stock      0\n",
              "dtype: int64"
            ]
          },
          "metadata": {},
          "execution_count": 9
        }
      ]
    },
    {
      "cell_type": "code",
      "source": [
        "# Data Processing\n",
        "# Feature Scaling\n",
        "\n",
        "scalar = MinMaxScaler()\n",
        "df[['Open','High','Low','Close']] = scalar.fit_transform(df[['Open','High','Low','Close']])\n",
        "df['Volume'] = scalar.fit_transform(df['Volume'].values.reshape(-1,1))"
      ],
      "metadata": {
        "id": "hxL9ZvoHkdQj"
      },
      "execution_count": null,
      "outputs": []
    },
    {
      "cell_type": "code",
      "source": [
        "df['Volume']"
      ],
      "metadata": {
        "colab": {
          "base_uri": "https://localhost:8080/"
        },
        "id": "hFQ2saRyknoZ",
        "outputId": "18c7ec1a-2581-4ea3-b8c4-d76ed46b6faa"
      },
      "execution_count": null,
      "outputs": [
        {
          "output_type": "execute_result",
          "data": {
            "text/plain": [
              "0        0.011219\n",
              "1        0.008708\n",
              "2        0.020533\n",
              "3        0.017937\n",
              "4        0.027936\n",
              "           ...   \n",
              "19581    0.006414\n",
              "19582    0.006234\n",
              "19583    0.005057\n",
              "19584    0.006089\n",
              "19585    0.005344\n",
              "Name: Volume, Length: 19586, dtype: float64"
            ]
          },
          "metadata": {},
          "execution_count": 11
        }
      ]
    },
    {
      "cell_type": "code",
      "source": [
        "df['Volume'].max()"
      ],
      "metadata": {
        "colab": {
          "base_uri": "https://localhost:8080/"
        },
        "id": "49HObuoLku_p",
        "outputId": "5f581265-4b07-4ed8-e993-f3977328e812"
      },
      "execution_count": null,
      "outputs": [
        {
          "output_type": "execute_result",
          "data": {
            "text/plain": [
              "1.0"
            ]
          },
          "metadata": {},
          "execution_count": 12
        }
      ]
    },
    {
      "cell_type": "code",
      "source": [
        "df['High']"
      ],
      "metadata": {
        "colab": {
          "base_uri": "https://localhost:8080/"
        },
        "id": "0vnmzZlqk1F5",
        "outputId": "489181e6-1d90-46dd-e211-b65d59c650b8"
      },
      "execution_count": null,
      "outputs": [
        {
          "output_type": "execute_result",
          "data": {
            "text/plain": [
              "0        0.000929\n",
              "1        0.000919\n",
              "2        0.000948\n",
              "3        0.000935\n",
              "4        0.000958\n",
              "           ...   \n",
              "19581    0.463063\n",
              "19582    0.463828\n",
              "19583    0.462806\n",
              "19584    0.460367\n",
              "19585    0.459597\n",
              "Name: High, Length: 19586, dtype: float64"
            ]
          },
          "metadata": {},
          "execution_count": 13
        }
      ]
    },
    {
      "cell_type": "code",
      "source": [
        "# Feature Selection\n",
        "\n",
        "X = df[['Open','High','Low','Close']]\n",
        "y = df['Volume']"
      ],
      "metadata": {
        "id": "yYkPDPn9k6i5"
      },
      "execution_count": null,
      "outputs": []
    },
    {
      "cell_type": "code",
      "source": [
        "X"
      ],
      "metadata": {
        "colab": {
          "base_uri": "https://localhost:8080/",
          "height": 424
        },
        "id": "SY2N9XyDlBjD",
        "outputId": "1bffbbd3-08bc-48bb-a239-46d7b5815f66"
      },
      "execution_count": null,
      "outputs": [
        {
          "output_type": "execute_result",
          "data": {
            "text/plain": [
              "           Open      High       Low     Close\n",
              "0      0.000923  0.000929  0.000927  0.000927\n",
              "1      0.000923  0.000919  0.000913  0.000920\n",
              "2      0.000926  0.000948  0.000944  0.000940\n",
              "3      0.000936  0.000935  0.000920  0.000907\n",
              "4      0.000962  0.000958  0.000981  0.000967\n",
              "...         ...       ...       ...       ...\n",
              "19581  0.461672  0.463063  0.469953  0.467881\n",
              "19582  0.466689  0.463828  0.472835  0.468089\n",
              "19583  0.464853  0.462806  0.472062  0.466296\n",
              "19584  0.461025  0.460367  0.466737  0.465621\n",
              "19585  0.461129  0.459597  0.469030  0.463439\n",
              "\n",
              "[19586 rows x 4 columns]"
            ],
            "text/html": [
              "\n",
              "  <div id=\"df-5562a987-cda5-4bdb-8a67-f79588a9a2fd\">\n",
              "    <div class=\"colab-df-container\">\n",
              "      <div>\n",
              "<style scoped>\n",
              "    .dataframe tbody tr th:only-of-type {\n",
              "        vertical-align: middle;\n",
              "    }\n",
              "\n",
              "    .dataframe tbody tr th {\n",
              "        vertical-align: top;\n",
              "    }\n",
              "\n",
              "    .dataframe thead th {\n",
              "        text-align: right;\n",
              "    }\n",
              "</style>\n",
              "<table border=\"1\" class=\"dataframe\">\n",
              "  <thead>\n",
              "    <tr style=\"text-align: right;\">\n",
              "      <th></th>\n",
              "      <th>Open</th>\n",
              "      <th>High</th>\n",
              "      <th>Low</th>\n",
              "      <th>Close</th>\n",
              "    </tr>\n",
              "  </thead>\n",
              "  <tbody>\n",
              "    <tr>\n",
              "      <th>0</th>\n",
              "      <td>0.000923</td>\n",
              "      <td>0.000929</td>\n",
              "      <td>0.000927</td>\n",
              "      <td>0.000927</td>\n",
              "    </tr>\n",
              "    <tr>\n",
              "      <th>1</th>\n",
              "      <td>0.000923</td>\n",
              "      <td>0.000919</td>\n",
              "      <td>0.000913</td>\n",
              "      <td>0.000920</td>\n",
              "    </tr>\n",
              "    <tr>\n",
              "      <th>2</th>\n",
              "      <td>0.000926</td>\n",
              "      <td>0.000948</td>\n",
              "      <td>0.000944</td>\n",
              "      <td>0.000940</td>\n",
              "    </tr>\n",
              "    <tr>\n",
              "      <th>3</th>\n",
              "      <td>0.000936</td>\n",
              "      <td>0.000935</td>\n",
              "      <td>0.000920</td>\n",
              "      <td>0.000907</td>\n",
              "    </tr>\n",
              "    <tr>\n",
              "      <th>4</th>\n",
              "      <td>0.000962</td>\n",
              "      <td>0.000958</td>\n",
              "      <td>0.000981</td>\n",
              "      <td>0.000967</td>\n",
              "    </tr>\n",
              "    <tr>\n",
              "      <th>...</th>\n",
              "      <td>...</td>\n",
              "      <td>...</td>\n",
              "      <td>...</td>\n",
              "      <td>...</td>\n",
              "    </tr>\n",
              "    <tr>\n",
              "      <th>19581</th>\n",
              "      <td>0.461672</td>\n",
              "      <td>0.463063</td>\n",
              "      <td>0.469953</td>\n",
              "      <td>0.467881</td>\n",
              "    </tr>\n",
              "    <tr>\n",
              "      <th>19582</th>\n",
              "      <td>0.466689</td>\n",
              "      <td>0.463828</td>\n",
              "      <td>0.472835</td>\n",
              "      <td>0.468089</td>\n",
              "    </tr>\n",
              "    <tr>\n",
              "      <th>19583</th>\n",
              "      <td>0.464853</td>\n",
              "      <td>0.462806</td>\n",
              "      <td>0.472062</td>\n",
              "      <td>0.466296</td>\n",
              "    </tr>\n",
              "    <tr>\n",
              "      <th>19584</th>\n",
              "      <td>0.461025</td>\n",
              "      <td>0.460367</td>\n",
              "      <td>0.466737</td>\n",
              "      <td>0.465621</td>\n",
              "    </tr>\n",
              "    <tr>\n",
              "      <th>19585</th>\n",
              "      <td>0.461129</td>\n",
              "      <td>0.459597</td>\n",
              "      <td>0.469030</td>\n",
              "      <td>0.463439</td>\n",
              "    </tr>\n",
              "  </tbody>\n",
              "</table>\n",
              "<p>19586 rows × 4 columns</p>\n",
              "</div>\n",
              "      <button class=\"colab-df-convert\" onclick=\"convertToInteractive('df-5562a987-cda5-4bdb-8a67-f79588a9a2fd')\"\n",
              "              title=\"Convert this dataframe to an interactive table.\"\n",
              "              style=\"display:none;\">\n",
              "        \n",
              "  <svg xmlns=\"http://www.w3.org/2000/svg\" height=\"24px\"viewBox=\"0 0 24 24\"\n",
              "       width=\"24px\">\n",
              "    <path d=\"M0 0h24v24H0V0z\" fill=\"none\"/>\n",
              "    <path d=\"M18.56 5.44l.94 2.06.94-2.06 2.06-.94-2.06-.94-.94-2.06-.94 2.06-2.06.94zm-11 1L8.5 8.5l.94-2.06 2.06-.94-2.06-.94L8.5 2.5l-.94 2.06-2.06.94zm10 10l.94 2.06.94-2.06 2.06-.94-2.06-.94-.94-2.06-.94 2.06-2.06.94z\"/><path d=\"M17.41 7.96l-1.37-1.37c-.4-.4-.92-.59-1.43-.59-.52 0-1.04.2-1.43.59L10.3 9.45l-7.72 7.72c-.78.78-.78 2.05 0 2.83L4 21.41c.39.39.9.59 1.41.59.51 0 1.02-.2 1.41-.59l7.78-7.78 2.81-2.81c.8-.78.8-2.07 0-2.86zM5.41 20L4 18.59l7.72-7.72 1.47 1.35L5.41 20z\"/>\n",
              "  </svg>\n",
              "      </button>\n",
              "      \n",
              "  <style>\n",
              "    .colab-df-container {\n",
              "      display:flex;\n",
              "      flex-wrap:wrap;\n",
              "      gap: 12px;\n",
              "    }\n",
              "\n",
              "    .colab-df-convert {\n",
              "      background-color: #E8F0FE;\n",
              "      border: none;\n",
              "      border-radius: 50%;\n",
              "      cursor: pointer;\n",
              "      display: none;\n",
              "      fill: #1967D2;\n",
              "      height: 32px;\n",
              "      padding: 0 0 0 0;\n",
              "      width: 32px;\n",
              "    }\n",
              "\n",
              "    .colab-df-convert:hover {\n",
              "      background-color: #E2EBFA;\n",
              "      box-shadow: 0px 1px 2px rgba(60, 64, 67, 0.3), 0px 1px 3px 1px rgba(60, 64, 67, 0.15);\n",
              "      fill: #174EA6;\n",
              "    }\n",
              "\n",
              "    [theme=dark] .colab-df-convert {\n",
              "      background-color: #3B4455;\n",
              "      fill: #D2E3FC;\n",
              "    }\n",
              "\n",
              "    [theme=dark] .colab-df-convert:hover {\n",
              "      background-color: #434B5C;\n",
              "      box-shadow: 0px 1px 3px 1px rgba(0, 0, 0, 0.15);\n",
              "      filter: drop-shadow(0px 1px 2px rgba(0, 0, 0, 0.3));\n",
              "      fill: #FFFFFF;\n",
              "    }\n",
              "  </style>\n",
              "\n",
              "      <script>\n",
              "        const buttonEl =\n",
              "          document.querySelector('#df-5562a987-cda5-4bdb-8a67-f79588a9a2fd button.colab-df-convert');\n",
              "        buttonEl.style.display =\n",
              "          google.colab.kernel.accessAllowed ? 'block' : 'none';\n",
              "\n",
              "        async function convertToInteractive(key) {\n",
              "          const element = document.querySelector('#df-5562a987-cda5-4bdb-8a67-f79588a9a2fd');\n",
              "          const dataTable =\n",
              "            await google.colab.kernel.invokeFunction('convertToInteractive',\n",
              "                                                     [key], {});\n",
              "          if (!dataTable) return;\n",
              "\n",
              "          const docLinkHtml = 'Like what you see? Visit the ' +\n",
              "            '<a target=\"_blank\" href=https://colab.research.google.com/notebooks/data_table.ipynb>data table notebook</a>'\n",
              "            + ' to learn more about interactive tables.';\n",
              "          element.innerHTML = '';\n",
              "          dataTable['output_type'] = 'display_data';\n",
              "          await google.colab.output.renderOutput(dataTable, element);\n",
              "          const docLink = document.createElement('div');\n",
              "          docLink.innerHTML = docLinkHtml;\n",
              "          element.appendChild(docLink);\n",
              "        }\n",
              "      </script>\n",
              "    </div>\n",
              "  </div>\n",
              "  "
            ]
          },
          "metadata": {},
          "execution_count": 16
        }
      ]
    },
    {
      "cell_type": "code",
      "source": [
        "y"
      ],
      "metadata": {
        "colab": {
          "base_uri": "https://localhost:8080/"
        },
        "id": "kvIGb94-lEBL",
        "outputId": "9f677457-1222-4308-e2a3-94e58a0e58c7"
      },
      "execution_count": null,
      "outputs": [
        {
          "output_type": "execute_result",
          "data": {
            "text/plain": [
              "0        0.011219\n",
              "1        0.008708\n",
              "2        0.020533\n",
              "3        0.017937\n",
              "4        0.027936\n",
              "           ...   \n",
              "19581    0.006414\n",
              "19582    0.006234\n",
              "19583    0.005057\n",
              "19584    0.006089\n",
              "19585    0.005344\n",
              "Name: Volume, Length: 19586, dtype: float64"
            ]
          },
          "metadata": {},
          "execution_count": 18
        }
      ]
    },
    {
      "cell_type": "code",
      "source": [
        "# Splitting the data into training and Testing\n",
        "\n",
        "from sklearn.model_selection import train_test_split\n",
        "\n",
        "X_train, X_test, y_train, y_test = train_test_split(X, y, test_size=0.2, random_state=42)"
      ],
      "metadata": {
        "id": "agefam3olKfD"
      },
      "execution_count": null,
      "outputs": []
    },
    {
      "cell_type": "code",
      "source": [
        "X_train.count()"
      ],
      "metadata": {
        "colab": {
          "base_uri": "https://localhost:8080/"
        },
        "id": "rPu-RalklRLb",
        "outputId": "7c111d11-1703-4c90-a21f-32ee368a7db2"
      },
      "execution_count": null,
      "outputs": [
        {
          "output_type": "execute_result",
          "data": {
            "text/plain": [
              "Open     15668\n",
              "High     15668\n",
              "Low      15668\n",
              "Close    15668\n",
              "dtype: int64"
            ]
          },
          "metadata": {},
          "execution_count": 20
        }
      ]
    },
    {
      "cell_type": "code",
      "source": [
        "X_test.count()"
      ],
      "metadata": {
        "colab": {
          "base_uri": "https://localhost:8080/"
        },
        "id": "T62DskaBlV3L",
        "outputId": "3101413f-2d7b-4022-9ed9-deac36770fe1"
      },
      "execution_count": null,
      "outputs": [
        {
          "output_type": "execute_result",
          "data": {
            "text/plain": [
              "Open     3918\n",
              "High     3918\n",
              "Low      3918\n",
              "Close    3918\n",
              "dtype: int64"
            ]
          },
          "metadata": {},
          "execution_count": 21
        }
      ]
    },
    {
      "cell_type": "code",
      "source": [
        "y_train.count()"
      ],
      "metadata": {
        "colab": {
          "base_uri": "https://localhost:8080/"
        },
        "id": "x15NHDdRlcHJ",
        "outputId": "f4c82ed7-2a31-4f22-8757-edb4046b4208"
      },
      "execution_count": null,
      "outputs": [
        {
          "output_type": "execute_result",
          "data": {
            "text/plain": [
              "15668"
            ]
          },
          "metadata": {},
          "execution_count": 22
        }
      ]
    },
    {
      "cell_type": "code",
      "source": [
        "y_test.count()"
      ],
      "metadata": {
        "colab": {
          "base_uri": "https://localhost:8080/"
        },
        "id": "6R6VEYnclgR5",
        "outputId": "4c734531-ff6e-4d74-9645-ee20a4d0e1a5"
      },
      "execution_count": null,
      "outputs": [
        {
          "output_type": "execute_result",
          "data": {
            "text/plain": [
              "3918"
            ]
          },
          "metadata": {},
          "execution_count": 23
        }
      ]
    },
    {
      "cell_type": "code",
      "source": [
        "# Reshape data to be 3D for LSTM model\n",
        "\n",
        "from keras.layers import  LSTM\n",
        "\n",
        "X_train = np.reshape(X_train.values,(X_train.shape[0],X_train.shape[1],1))\n",
        "\n",
        "X_test = np.reshape(X_test.values,(X_test.shape[0],X_test.shape[1],1))\n",
        "X_train"
      ],
      "metadata": {
        "colab": {
          "base_uri": "https://localhost:8080/"
        },
        "id": "arqrGENhljEy",
        "outputId": "42f069ec-42c2-4f6d-bfdf-126343d8f95c"
      },
      "execution_count": null,
      "outputs": [
        {
          "output_type": "execute_result",
          "data": {
            "text/plain": [
              "array([[[0.00334357],\n",
              "        [0.00334161],\n",
              "        [0.00334689],\n",
              "        [0.00335825]],\n",
              "\n",
              "       [[0.00071056],\n",
              "        [0.00070524],\n",
              "        [0.00069398],\n",
              "        [0.00069043]],\n",
              "\n",
              "       [[0.01420661],\n",
              "        [0.01412168],\n",
              "        [0.01392884],\n",
              "        [0.01381124]],\n",
              "\n",
              "       ...,\n",
              "\n",
              "       [[0.02504974],\n",
              "        [0.02598379],\n",
              "        [0.02547948],\n",
              "        [0.0256637 ]],\n",
              "\n",
              "       [[0.00326468],\n",
              "        [0.00326922],\n",
              "        [0.00323958],\n",
              "        [0.00325511]],\n",
              "\n",
              "       [[0.06532931],\n",
              "        [0.06569702],\n",
              "        [0.06641517],\n",
              "        [0.06609154]]])"
            ]
          },
          "metadata": {},
          "execution_count": 24
        }
      ]
    },
    {
      "cell_type": "code",
      "source": [
        "# Define LSTM model architecture\n",
        "\n",
        "from keras.models import Sequential\n",
        "from keras.layers import Dense\n",
        "\n",
        "model = Sequential()\n",
        "model.add(LSTM(units=50, return_sequences=True, input_shape=(X_train.shape[1], 1)))\n",
        "model.add(LSTM(units=50))\n",
        "model.add(Dense(1))"
      ],
      "metadata": {
        "id": "ZnL2Qa2ClmjR"
      },
      "execution_count": null,
      "outputs": []
    },
    {
      "cell_type": "code",
      "source": [
        "# Compile the model\n",
        "\n",
        "from sklearn.metrics import mean_squared_error\n",
        "\n",
        "model.compile(loss='mean_squared_error',optimizer = 'adam')"
      ],
      "metadata": {
        "id": "zMkqU7ixltcj"
      },
      "execution_count": null,
      "outputs": []
    },
    {
      "cell_type": "code",
      "source": [
        "# Train the model\n",
        "\n",
        "Train_Model = model.fit(X_train,y_train,epochs=60,batch_size=32,validation_data=(X_test,y_test))"
      ],
      "metadata": {
        "colab": {
          "base_uri": "https://localhost:8080/"
        },
        "id": "a_T7GLKHlwu7",
        "outputId": "70389816-e17c-43c6-cada-0a18ea3753bd"
      },
      "execution_count": null,
      "outputs": [
        {
          "output_type": "stream",
          "name": "stdout",
          "text": [
            "Epoch 1/60\n",
            "490/490 [==============================] - 13s 14ms/step - loss: 0.0014 - val_loss: 0.0014\n",
            "Epoch 2/60\n",
            "490/490 [==============================] - 4s 9ms/step - loss: 0.0014 - val_loss: 0.0014\n",
            "Epoch 3/60\n",
            "490/490 [==============================] - 6s 12ms/step - loss: 0.0014 - val_loss: 0.0014\n",
            "Epoch 4/60\n",
            "490/490 [==============================] - 5s 9ms/step - loss: 0.0014 - val_loss: 0.0014\n",
            "Epoch 5/60\n",
            "490/490 [==============================] - 4s 9ms/step - loss: 0.0014 - val_loss: 0.0014\n",
            "Epoch 6/60\n",
            "490/490 [==============================] - 6s 12ms/step - loss: 0.0014 - val_loss: 0.0014\n",
            "Epoch 7/60\n",
            "490/490 [==============================] - 5s 10ms/step - loss: 0.0014 - val_loss: 0.0014\n",
            "Epoch 8/60\n",
            "490/490 [==============================] - 4s 9ms/step - loss: 0.0014 - val_loss: 0.0014\n",
            "Epoch 9/60\n",
            "490/490 [==============================] - 6s 12ms/step - loss: 0.0014 - val_loss: 0.0014\n",
            "Epoch 10/60\n",
            "490/490 [==============================] - 4s 9ms/step - loss: 0.0013 - val_loss: 0.0014\n",
            "Epoch 11/60\n",
            "490/490 [==============================] - 4s 9ms/step - loss: 0.0013 - val_loss: 0.0014\n",
            "Epoch 12/60\n",
            "490/490 [==============================] - 7s 14ms/step - loss: 0.0013 - val_loss: 0.0014\n",
            "Epoch 13/60\n",
            "490/490 [==============================] - 5s 10ms/step - loss: 0.0013 - val_loss: 0.0014\n",
            "Epoch 14/60\n",
            "490/490 [==============================] - 5s 11ms/step - loss: 0.0013 - val_loss: 0.0014\n",
            "Epoch 15/60\n",
            "490/490 [==============================] - 6s 12ms/step - loss: 0.0013 - val_loss: 0.0014\n",
            "Epoch 16/60\n",
            "490/490 [==============================] - 4s 9ms/step - loss: 0.0013 - val_loss: 0.0014\n",
            "Epoch 17/60\n",
            "490/490 [==============================] - 6s 13ms/step - loss: 0.0013 - val_loss: 0.0014\n",
            "Epoch 18/60\n",
            "490/490 [==============================] - 5s 9ms/step - loss: 0.0013 - val_loss: 0.0014\n",
            "Epoch 19/60\n",
            "490/490 [==============================] - 4s 9ms/step - loss: 0.0013 - val_loss: 0.0014\n",
            "Epoch 20/60\n",
            "490/490 [==============================] - 6s 12ms/step - loss: 0.0013 - val_loss: 0.0014\n",
            "Epoch 21/60\n",
            "490/490 [==============================] - 4s 9ms/step - loss: 0.0013 - val_loss: 0.0014\n",
            "Epoch 22/60\n",
            "490/490 [==============================] - 4s 9ms/step - loss: 0.0013 - val_loss: 0.0014\n",
            "Epoch 23/60\n",
            "490/490 [==============================] - 6s 13ms/step - loss: 0.0013 - val_loss: 0.0014\n",
            "Epoch 24/60\n",
            "490/490 [==============================] - 4s 9ms/step - loss: 0.0013 - val_loss: 0.0014\n",
            "Epoch 25/60\n",
            "490/490 [==============================] - 4s 9ms/step - loss: 0.0013 - val_loss: 0.0014\n",
            "Epoch 26/60\n",
            "490/490 [==============================] - 6s 12ms/step - loss: 0.0013 - val_loss: 0.0014\n",
            "Epoch 27/60\n",
            "490/490 [==============================] - 4s 9ms/step - loss: 0.0013 - val_loss: 0.0014\n",
            "Epoch 28/60\n",
            "490/490 [==============================] - 4s 9ms/step - loss: 0.0013 - val_loss: 0.0014\n",
            "Epoch 29/60\n",
            "490/490 [==============================] - 6s 12ms/step - loss: 0.0013 - val_loss: 0.0014\n",
            "Epoch 30/60\n",
            "490/490 [==============================] - 4s 9ms/step - loss: 0.0013 - val_loss: 0.0014\n",
            "Epoch 31/60\n",
            "490/490 [==============================] - 4s 9ms/step - loss: 0.0013 - val_loss: 0.0013\n",
            "Epoch 32/60\n",
            "490/490 [==============================] - 6s 13ms/step - loss: 0.0012 - val_loss: 0.0013\n",
            "Epoch 33/60\n",
            "490/490 [==============================] - 4s 9ms/step - loss: 0.0012 - val_loss: 0.0012\n",
            "Epoch 34/60\n",
            "490/490 [==============================] - 5s 10ms/step - loss: 0.0012 - val_loss: 0.0012\n",
            "Epoch 35/60\n",
            "490/490 [==============================] - 6s 11ms/step - loss: 0.0012 - val_loss: 0.0012\n",
            "Epoch 36/60\n",
            "490/490 [==============================] - 4s 9ms/step - loss: 0.0012 - val_loss: 0.0012\n",
            "Epoch 37/60\n",
            "490/490 [==============================] - 5s 10ms/step - loss: 0.0012 - val_loss: 0.0012\n",
            "Epoch 38/60\n",
            "490/490 [==============================] - 5s 11ms/step - loss: 0.0012 - val_loss: 0.0012\n",
            "Epoch 39/60\n",
            "490/490 [==============================] - 4s 9ms/step - loss: 0.0012 - val_loss: 0.0012\n",
            "Epoch 40/60\n",
            "490/490 [==============================] - 5s 11ms/step - loss: 0.0012 - val_loss: 0.0012\n",
            "Epoch 41/60\n",
            "490/490 [==============================] - 5s 10ms/step - loss: 0.0012 - val_loss: 0.0012\n",
            "Epoch 42/60\n",
            "490/490 [==============================] - 4s 9ms/step - loss: 0.0012 - val_loss: 0.0012\n",
            "Epoch 43/60\n",
            "490/490 [==============================] - 5s 10ms/step - loss: 0.0012 - val_loss: 0.0012\n",
            "Epoch 44/60\n",
            "490/490 [==============================] - 5s 11ms/step - loss: 0.0012 - val_loss: 0.0012\n",
            "Epoch 45/60\n",
            "490/490 [==============================] - 4s 9ms/step - loss: 0.0012 - val_loss: 0.0012\n",
            "Epoch 46/60\n",
            "490/490 [==============================] - 5s 11ms/step - loss: 0.0012 - val_loss: 0.0012\n",
            "Epoch 47/60\n",
            "490/490 [==============================] - 5s 10ms/step - loss: 0.0012 - val_loss: 0.0012\n",
            "Epoch 48/60\n",
            "490/490 [==============================] - 4s 9ms/step - loss: 0.0012 - val_loss: 0.0012\n",
            "Epoch 49/60\n",
            "490/490 [==============================] - 5s 11ms/step - loss: 0.0012 - val_loss: 0.0012\n",
            "Epoch 50/60\n",
            "490/490 [==============================] - 5s 10ms/step - loss: 0.0012 - val_loss: 0.0012\n",
            "Epoch 51/60\n",
            "490/490 [==============================] - 4s 9ms/step - loss: 0.0012 - val_loss: 0.0012\n",
            "Epoch 52/60\n",
            "490/490 [==============================] - 6s 12ms/step - loss: 0.0012 - val_loss: 0.0013\n",
            "Epoch 53/60\n",
            "490/490 [==============================] - 5s 9ms/step - loss: 0.0012 - val_loss: 0.0012\n",
            "Epoch 54/60\n",
            "490/490 [==============================] - 4s 9ms/step - loss: 0.0012 - val_loss: 0.0012\n",
            "Epoch 55/60\n",
            "490/490 [==============================] - 6s 12ms/step - loss: 0.0012 - val_loss: 0.0012\n",
            "Epoch 56/60\n",
            "490/490 [==============================] - 5s 9ms/step - loss: 0.0012 - val_loss: 0.0012\n",
            "Epoch 57/60\n",
            "490/490 [==============================] - 4s 9ms/step - loss: 0.0012 - val_loss: 0.0012\n",
            "Epoch 58/60\n",
            "490/490 [==============================] - 7s 13ms/step - loss: 0.0012 - val_loss: 0.0012\n",
            "Epoch 59/60\n",
            "490/490 [==============================] - 4s 9ms/step - loss: 0.0012 - val_loss: 0.0013\n",
            "Epoch 60/60\n",
            "490/490 [==============================] - 5s 9ms/step - loss: 0.0012 - val_loss: 0.0012\n"
          ]
        }
      ]
    },
    {
      "cell_type": "code",
      "source": [
        "# Evaluation of the model\n",
        "\n",
        "y_pred = model.predict(X_test)\n",
        "\n",
        "rmse = np.sqrt(mean_squared_error(y_test,y_pred))\n",
        "print(\"Root_Mean_Squared_Error is :\",rmse)"
      ],
      "metadata": {
        "colab": {
          "base_uri": "https://localhost:8080/"
        },
        "id": "-BrFP4p5l3p0",
        "outputId": "97610bc2-3a77-44fe-a5ca-add564f555a9"
      },
      "execution_count": null,
      "outputs": [
        {
          "output_type": "stream",
          "name": "stdout",
          "text": [
            "123/123 [==============================] - 3s 6ms/step\n",
            "Root_Mean_Squared_Error is : 0.034946823594320296\n"
          ]
        }
      ]
    },
    {
      "cell_type": "code",
      "source": [
        "# Visualize training and validation loss\n",
        "\n",
        "\n",
        "plt.plot(Train_Model.history['loss'],label='Training LOSS' )\n",
        "plt.plot(Train_Model.history['val_loss'],label='Validation LOSS' )\n",
        "plt.legend()\n",
        "plt.show()"
      ],
      "metadata": {
        "colab": {
          "base_uri": "https://localhost:8080/",
          "height": 430
        },
        "id": "aHrA5f94nru6",
        "outputId": "b6d75951-90cc-45d0-c73b-1345aebbf5bf"
      },
      "execution_count": null,
      "outputs": [
        {
          "output_type": "display_data",
          "data": {
            "text/plain": [
              "<Figure size 640x480 with 1 Axes>"
            ],
            "image/png": "[encoded data removed]"
          },
          "metadata": {}
        }
      ]
    },
    {
      "cell_type": "code",
      "source": [
        "# Visualize actual vs predicted stock prices\n",
        "\n",
        "plt.plot(y_test.values, color='yellow', label='Actual Stock Price')\n",
        "plt.plot(y_pred, color='blue', label='Predicted Stock Price')\n",
        "plt.legend()\n",
        "plt.show()\n"
      ],
      "metadata": {
        "colab": {
          "base_uri": "https://localhost:8080/",
          "height": 430
        },
        "id": "3DCz4K_xnv4Z",
        "outputId": "54374a9e-364c-402e-c561-79aa6e69584f"
      },
      "execution_count": null,
      "outputs": [
        {
          "output_type": "display_data",
          "data": {
            "text/plain": [
              "<Figure size 640x480 with 1 Axes>"
            ],
            "image/png": "[encoded data removed]"
          },
          "metadata": {}
        }
      ]
    },
    {
      "cell_type": "code",
      "source": [],
      "metadata": {
        "id": "07hK0gddn4Jj"
      },
      "execution_count": null,
      "outputs": []
    }
  ]
}